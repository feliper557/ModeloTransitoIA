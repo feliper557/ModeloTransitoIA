{
 "cells": [
  {
   "cell_type": "markdown",
   "id": "dc170bc6",
   "metadata": {},
   "source": [
    "# Exploración de Datos - ModeloTransitoIA\n",
    "\n",
    "Este notebook contiene la exploración inicial de los datos de tránsito."
   ]
  },
  {
   "cell_type": "code",
   "execution_count": null,
   "id": "27c231cd",
   "metadata": {},
   "outputs": [],
   "source": [
    "# Importar librerías\n",
    "import pandas as pd\n",
    "import numpy as np\n",
    "import matplotlib.pyplot as plt\n",
    "import seaborn as sns\n",
    "\n",
    "# Configuración\n",
    "%matplotlib inline\n",
    "sns.set_style('whitegrid')\n",
    "plt.rcParams['figure.figsize'] = (12, 6)"
   ]
  },
  {
   "cell_type": "code",
   "execution_count": null,
   "id": "4a2c99f8",
   "metadata": {},
   "outputs": [],
   "source": [
    "# Agregar el directorio src al path\n",
    "import sys\n",
    "from pathlib import Path\n",
    "\n",
    "project_root = Path.cwd().parent\n",
    "sys.path.insert(0, str(project_root / \"src\"))\n",
    "\n",
    "from src.data.data_loader import DataLoader"
   ]
  },
  {
   "cell_type": "markdown",
   "id": "bbd4c147",
   "metadata": {},
   "source": [
    "## 1. Cargar Datos"
   ]
  },
  {
   "cell_type": "code",
   "execution_count": null,
   "id": "b854da2f",
   "metadata": {},
   "outputs": [],
   "source": [
    "# TODO: Cargar tus datos aquí\n",
    "# data_loader = DataLoader()\n",
    "# df = data_loader.load_csv('tu_archivo.csv')\n",
    "# df.head()"
   ]
  },
  {
   "cell_type": "markdown",
   "id": "dd4ce3be",
   "metadata": {},
   "source": [
    "## 2. Análisis Exploratorio"
   ]
  },
  {
   "cell_type": "code",
   "execution_count": null,
   "id": "d6156edd",
   "metadata": {},
   "outputs": [],
   "source": [
    "# TODO: Implementar análisis exploratorio\n",
    "# df.info()\n",
    "# df.describe()"
   ]
  },
  {
   "cell_type": "markdown",
   "id": "f82f2bce",
   "metadata": {},
   "source": [
    "## 3. Visualizaciones"
   ]
  },
  {
   "cell_type": "code",
   "execution_count": null,
   "id": "d0fbd07a",
   "metadata": {},
   "outputs": [],
   "source": [
    "# TODO: Crear visualizaciones\n",
    "# plt.figure(figsize=(12, 6))\n",
    "# plt.plot(df['columna'])\n",
    "# plt.title('Título')\n",
    "# plt.show()"
   ]
  }
 ],
 "metadata": {
  "language_info": {
   "name": "python"
  }
 },
 "nbformat": 4,
 "nbformat_minor": 5
}
